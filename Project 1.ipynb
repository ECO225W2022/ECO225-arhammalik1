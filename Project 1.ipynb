{
 "cells": [
  {
   "cell_type": "markdown",
   "id": "f14660c5",
   "metadata": {},
   "source": [
    "# Introduction \n",
    "With the use of high school data compiled from the New York City  Department of Education, and the SAT score averages and testing rates were provided by the College Board, we analyse and discuss whether a  a student's city and high school affects the SAT score he gets through college board. SAT scores are standardized tests taken by college board (an independent board) that are used by students to apply for college after highschool. The score a child gets greatly impacts his/her chance in getting into college and their future. The main emphasis in the project would be to find connections in whether some cities or highschools in the state of New York do better than others and discuss the factors that lead to these differences.\n"
   ]
  },
  {
   "cell_type": "markdown",
   "id": "adb2f3e3",
   "metadata": {},
   "source": [
    
   ]
  },
  {
   "cell_type": "code",
   "execution_count": null,
   "id": "52ad5f13",
   "metadata": {},
   "outputs": [],
   "source": []
  }
 ],
 "metadata": {
  "kernelspec": {
   "display_name": "Python 3 (ipykernel)",
   "language": "python",
   "name": "python3"
  },
  "language_info": {
   "codemirror_mode": {
    "name": "ipython",
    "version": 3
   },
   "file_extension": ".py",
   "mimetype": "text/x-python",
   "name": "python",
   "nbconvert_exporter": "python",
   "pygments_lexer": "ipython3",
   "version": "3.9.7"
  }
 },
 "nbformat": 4,
 "nbformat_minor": 5
}
